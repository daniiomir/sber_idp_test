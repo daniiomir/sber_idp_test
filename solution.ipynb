{
 "cells": [
  {
   "cell_type": "code",
   "execution_count": 1,
   "metadata": {
    "collapsed": true
   },
   "outputs": [],
   "source": [
    "import torch\n",
    "import pandas as pd\n",
    "import numpy as np\n",
    "from torch.utils.data import DataLoader\n",
    "from src.model import DogClassifier\n",
    "from src.tools import MetricStorer, seed_everything\n",
    "from src.config import DATASET_PATHS, CNFG, SAVE_METRICS_PATH, SAVE_WEIGHTS_PATH\n",
    "from src.loader import WoofDataset, MultipleDataset, train_transforms, val_transforms"
   ]
  },
  {
   "cell_type": "code",
   "execution_count": 2,
   "outputs": [],
   "source": [
    "seed_everything(CNFG['seed'])"
   ],
   "metadata": {
    "collapsed": false,
    "pycharm": {
     "name": "#%%\n"
    }
   }
  },
  {
   "cell_type": "code",
   "execution_count": 3,
   "outputs": [
    {
     "data": {
      "text/plain": "                                       path noisy_labels_0 noisy_labels_1  \\\n5687    train/n02099601/n02099601_1639.JPEG      n02099601      n02099601   \n937    train/n02115641/n02115641_14534.JPEG      n02115641      n02115641   \n7727    train/n02093754/n02093754_8005.JPEG      n02093754      n02093754   \n7635    train/n02093754/n02093754_1536.JPEG      n02093754      n02093754   \n12614      val/n02093754/n02093754_590.JPEG      n02093754      n02093754   \n\n      noisy_labels_5 noisy_labels_25 noisy_labels_50  is_valid  \n5687       n02099601       n02099601       n02099601     False  \n937        n02115641       n02115641       n02115641     False  \n7727       n02093754       n02093754       n02099601     False  \n7635       n02096294       n02093754       n02093754     False  \n12614      n02093754       n02093754       n02093754      True  ",
      "text/html": "<div>\n<style scoped>\n    .dataframe tbody tr th:only-of-type {\n        vertical-align: middle;\n    }\n\n    .dataframe tbody tr th {\n        vertical-align: top;\n    }\n\n    .dataframe thead th {\n        text-align: right;\n    }\n</style>\n<table border=\"1\" class=\"dataframe\">\n  <thead>\n    <tr style=\"text-align: right;\">\n      <th></th>\n      <th>path</th>\n      <th>noisy_labels_0</th>\n      <th>noisy_labels_1</th>\n      <th>noisy_labels_5</th>\n      <th>noisy_labels_25</th>\n      <th>noisy_labels_50</th>\n      <th>is_valid</th>\n    </tr>\n  </thead>\n  <tbody>\n    <tr>\n      <th>5687</th>\n      <td>train/n02099601/n02099601_1639.JPEG</td>\n      <td>n02099601</td>\n      <td>n02099601</td>\n      <td>n02099601</td>\n      <td>n02099601</td>\n      <td>n02099601</td>\n      <td>False</td>\n    </tr>\n    <tr>\n      <th>937</th>\n      <td>train/n02115641/n02115641_14534.JPEG</td>\n      <td>n02115641</td>\n      <td>n02115641</td>\n      <td>n02115641</td>\n      <td>n02115641</td>\n      <td>n02115641</td>\n      <td>False</td>\n    </tr>\n    <tr>\n      <th>7727</th>\n      <td>train/n02093754/n02093754_8005.JPEG</td>\n      <td>n02093754</td>\n      <td>n02093754</td>\n      <td>n02093754</td>\n      <td>n02093754</td>\n      <td>n02099601</td>\n      <td>False</td>\n    </tr>\n    <tr>\n      <th>7635</th>\n      <td>train/n02093754/n02093754_1536.JPEG</td>\n      <td>n02093754</td>\n      <td>n02093754</td>\n      <td>n02096294</td>\n      <td>n02093754</td>\n      <td>n02093754</td>\n      <td>False</td>\n    </tr>\n    <tr>\n      <th>12614</th>\n      <td>val/n02093754/n02093754_590.JPEG</td>\n      <td>n02093754</td>\n      <td>n02093754</td>\n      <td>n02093754</td>\n      <td>n02093754</td>\n      <td>n02093754</td>\n      <td>True</td>\n    </tr>\n  </tbody>\n</table>\n</div>"
     },
     "execution_count": 3,
     "metadata": {},
     "output_type": "execute_result"
    }
   ],
   "source": [
    "labels = pd.read_csv(DATASET_PATHS['labels'])\n",
    "labels.sample(5)"
   ],
   "metadata": {
    "collapsed": false,
    "pycharm": {
     "name": "#%%\n"
    }
   }
  },
  {
   "cell_type": "code",
   "execution_count": 4,
   "outputs": [
    {
     "data": {
      "text/plain": "path               0\nnoisy_labels_0     0\nnoisy_labels_1     0\nnoisy_labels_5     0\nnoisy_labels_25    0\nnoisy_labels_50    0\nis_valid           0\ndtype: int64"
     },
     "execution_count": 4,
     "metadata": {},
     "output_type": "execute_result"
    }
   ],
   "source": [
    "labels.isna().sum()"
   ],
   "metadata": {
    "collapsed": false,
    "pycharm": {
     "name": "#%%\n"
    }
   }
  },
  {
   "cell_type": "code",
   "execution_count": 5,
   "outputs": [],
   "source": [
    "LABEL_COL = 'noisy_labels_0'"
   ],
   "metadata": {
    "collapsed": false,
    "pycharm": {
     "name": "#%%\n"
    }
   }
  },
  {
   "cell_type": "code",
   "execution_count": 6,
   "outputs": [],
   "source": [
    "labels = labels[['path', LABEL_COL]]"
   ],
   "metadata": {
    "collapsed": false,
    "pycharm": {
     "name": "#%%\n"
    }
   }
  },
  {
   "cell_type": "code",
   "execution_count": 7,
   "outputs": [],
   "source": [
    "labels[LABEL_COL] = pd.Categorical(labels[LABEL_COL])"
   ],
   "metadata": {
    "collapsed": false,
    "pycharm": {
     "name": "#%%\n"
    }
   }
  },
  {
   "cell_type": "code",
   "execution_count": 8,
   "outputs": [],
   "source": [
    "labels['codes'] = labels[LABEL_COL].cat.codes"
   ],
   "metadata": {
    "collapsed": false,
    "pycharm": {
     "name": "#%%\n"
    }
   }
  },
  {
   "cell_type": "code",
   "execution_count": 9,
   "outputs": [
    {
     "name": "stdout",
     "output_type": "stream",
     "text": [
      "<class 'pandas.core.frame.DataFrame'>\n",
      "RangeIndex: 12954 entries, 0 to 12953\n",
      "Data columns (total 3 columns):\n",
      " #   Column          Non-Null Count  Dtype   \n",
      "---  ------          --------------  -----   \n",
      " 0   path            12954 non-null  object  \n",
      " 1   noisy_labels_0  12954 non-null  category\n",
      " 2   codes           12954 non-null  int8    \n",
      "dtypes: category(1), int8(1), object(1)\n",
      "memory usage: 127.0+ KB\n"
     ]
    }
   ],
   "source": [
    "labels.info()"
   ],
   "metadata": {
    "collapsed": false,
    "pycharm": {
     "name": "#%%\n"
    }
   }
  },
  {
   "cell_type": "code",
   "execution_count": 10,
   "outputs": [],
   "source": [
    "train_labels = labels[:9025]\n",
    "val_labels = labels[9025:]"
   ],
   "metadata": {
    "collapsed": false,
    "pycharm": {
     "name": "#%%\n"
    }
   }
  },
  {
   "cell_type": "code",
   "execution_count": 11,
   "outputs": [
    {
     "data": {
      "text/plain": "n02093754    949\nn02099601    949\nn02096294    943\nn02087394    942\nn02086240    941\nn02115641    940\nn02088364    932\nn02105641    928\nn02111889    921\nn02089973    580\nName: noisy_labels_0, dtype: int64"
     },
     "execution_count": 11,
     "metadata": {},
     "output_type": "execute_result"
    }
   ],
   "source": [
    "train_labels[LABEL_COL].value_counts()"
   ],
   "metadata": {
    "collapsed": false,
    "pycharm": {
     "name": "#%%\n"
    }
   }
  },
  {
   "cell_type": "code",
   "execution_count": 12,
   "outputs": [
    {
     "data": {
      "text/plain": "n02111889    429\nn02105641    422\nn02088364    418\nn02115641    410\nn02086240    409\nn02087394    408\nn02096294    407\nn02093754    401\nn02099601    401\nn02089973    224\nName: noisy_labels_0, dtype: int64"
     },
     "execution_count": 12,
     "metadata": {},
     "output_type": "execute_result"
    }
   ],
   "source": [
    "val_labels[LABEL_COL].value_counts()"
   ],
   "metadata": {
    "collapsed": false,
    "pycharm": {
     "name": "#%%\n"
    }
   }
  },
  {
   "cell_type": "code",
   "execution_count": 13,
   "outputs": [],
   "source": [
    "train_dataset = WoofDataset(files=train_labels['path'].to_list(),\n",
    "                            labels=train_labels['codes'].to_list(),\n",
    "                            data_path=DATASET_PATHS['main_path'],\n",
    "                            transforms=train_transforms,\n",
    "                            mode='train')\n",
    "\n",
    "val_dataset = WoofDataset(files=val_labels['path'].to_list(),\n",
    "                            labels=val_labels['codes'].to_list(),\n",
    "                            data_path=DATASET_PATHS['main_path'],\n",
    "                            transforms=val_transforms,\n",
    "                            mode='val')"
   ],
   "metadata": {
    "collapsed": false,
    "pycharm": {
     "name": "#%%\n"
    }
   }
  },
  {
   "cell_type": "code",
   "execution_count": 14,
   "outputs": [],
   "source": [
    "train_multi_dataset = MultipleDataset(train_dataset)\n",
    "val_multi_dataset = MultipleDataset(val_dataset)"
   ],
   "metadata": {
    "collapsed": false,
    "pycharm": {
     "name": "#%%\n"
    }
   }
  },
  {
   "cell_type": "code",
   "execution_count": 15,
   "outputs": [],
   "source": [
    "train_loader = DataLoader(train_multi_dataset, batch_size=CNFG['batch_size'], num_workers=CNFG['num_workers'])\n",
    "val_loader = DataLoader(val_multi_dataset, batch_size=CNFG['batch_size'], num_workers=CNFG['num_workers'])"
   ],
   "metadata": {
    "collapsed": false,
    "pycharm": {
     "name": "#%%\n"
    }
   }
  },
  {
   "cell_type": "code",
   "execution_count": 16,
   "outputs": [
    {
     "name": "stdout",
     "output_type": "stream",
     "text": [
      "Train length - 9025, val length - 3929\n"
     ]
    }
   ],
   "source": [
    "print(f'Train length - {len(train_multi_dataset)}, val length - {len(val_multi_dataset)}')"
   ],
   "metadata": {
    "collapsed": false,
    "pycharm": {
     "name": "#%%\n"
    }
   }
  },
  {
   "cell_type": "code",
   "execution_count": 17,
   "outputs": [],
   "source": [
    "model = DogClassifier(CNFG['model_arch'], 10, pretrained=True)\n",
    "model.to(CNFG['device'])\n",
    "criterion = torch.nn.CrossEntropyLoss()\n",
    "optimizer = torch.optim.Adam(model.parameters(), lr=CNFG['lr'])\n",
    "scheduler = torch.optim.lr_scheduler.ReduceLROnPlateau(optimizer, patience=3, factor=0.3)\n",
    "\n",
    "storer = MetricStorer(\n",
    "    metrics=('acc'),\n",
    "    raw_names=('train_preds', 'test_preds',\n",
    "                'train_real', 'test_real'),\n",
    "    folds=('train', 'test'),\n",
    "    path=SAVE_METRICS_PATH,\n",
    "    esr=CNFG['esr']\n",
    ")"
   ],
   "metadata": {
    "collapsed": false,
    "pycharm": {
     "name": "#%%\n"
    }
   }
  },
  {
   "cell_type": "code",
   "execution_count": null,
   "outputs": [
    {
     "name": "stdout",
     "output_type": "stream",
     "text": [
      "LR - [0.001]\n"
     ]
    }
   ],
   "source": [
    "for epoch in range(CNFG['epochs']):\n",
    "    torch.cuda.empty_cache()\n",
    "    model.train()\n",
    "    train_loss = test_loss = 0\n",
    "    print('LR - {}'.format([group['lr'] for group in optimizer.param_groups]))\n",
    "    for img, target in train_loader:\n",
    "        img, target = img.to(CNFG['device']), target.to(CNFG['device'])\n",
    "        img = img.permute(0, 3, 1, 2)\n",
    "        pred = model(img.float())\n",
    "        loss = criterion(pred, target.long())\n",
    "        optimizer.zero_grad()\n",
    "        loss.backward()\n",
    "        torch.nn.utils.clip_grad_norm_(model.parameters(), CNFG['grad_clip'])\n",
    "        optimizer.step()\n",
    "        storer.add_loss(loss, 'train')\n",
    "        storer.apply_metric(name=('acc',),\n",
    "                           pred=pred.argmax(dim=1),\n",
    "                           real=target,\n",
    "                           foldname='train')\n",
    "        storer.add_raw('train_preds', storer.to_numpy(pred))\n",
    "        storer.add_raw('train_real', storer.to_numpy(target))\n",
    "\n",
    "    model.eval()\n",
    "    torch.cuda.empty_cache()\n",
    "    with torch.no_grad():\n",
    "        for img, target in val_loader:\n",
    "            img, target = img.to(CNFG['device']), target.to(CNFG['device'])\n",
    "            img = img.permute(0, 3, 1, 2)\n",
    "            pred = model(img.float())\n",
    "            loss = criterion(pred, target.long())\n",
    "            storer.add_loss(loss, 'test')\n",
    "            storer.apply_metric(name=('acc',),\n",
    "                           pred=pred.argmax(dim=1),\n",
    "                           real=target,\n",
    "                           foldname='test')\n",
    "            storer.add_raw('test_preds', storer.to_numpy(pred))\n",
    "            storer.add_raw('test_real', storer.to_numpy(target))\n",
    "        scheduler.step(np.mean(storer.temp_metrics['test_loss']))\n",
    "    torch.cuda.empty_cache()\n",
    "    storer.new_epoch()\n",
    "    log_line, to_break, is_best = storer.print_last(inplace=True)\n",
    "    print('Break? {}\\nBest score? {}'.format(to_break, is_best))\n",
    "    if is_best:\n",
    "        torch.save({\n",
    "            'epoch': epoch,\n",
    "            'loss': loss,\n",
    "            'model': model.module.state_dict() if CNFG['multi_gpu'] else model.state_dict(),\n",
    "            'optimizer_state_dict': optimizer.state_dict()\n",
    "        }, SAVE_WEIGHTS_PATH)\n",
    "        storer.move_best_raw()\n",
    "        storer.dump()\n",
    "    for key in ['train_preds', 'test_preds', 'train_real', 'test_real']:\n",
    "        storer.clear_raw(key)\n",
    "    if to_break:\n",
    "        break\n",
    "print('Training done.')"
   ],
   "metadata": {
    "collapsed": false,
    "pycharm": {
     "name": "#%%\n",
     "is_executing": true
    }
   }
  },
  {
   "cell_type": "code",
   "execution_count": null,
   "outputs": [],
   "source": [],
   "metadata": {
    "collapsed": false,
    "pycharm": {
     "name": "#%%\n",
     "is_executing": true
    }
   }
  }
 ],
 "metadata": {
  "kernelspec": {
   "display_name": "Python 3",
   "language": "python",
   "name": "python3"
  },
  "language_info": {
   "codemirror_mode": {
    "name": "ipython",
    "version": 2
   },
   "file_extension": ".py",
   "mimetype": "text/x-python",
   "name": "python",
   "nbconvert_exporter": "python",
   "pygments_lexer": "ipython2",
   "version": "2.7.6"
  }
 },
 "nbformat": 4,
 "nbformat_minor": 0
}