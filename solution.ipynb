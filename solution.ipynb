{
 "cells": [
  {
   "cell_type": "code",
   "execution_count": 8,
   "metadata": {
    "collapsed": true
   },
   "outputs": [],
   "source": [
    "import torch\n",
    "import pandas as pd\n",
    "from torch.utils.data import DataLoader\n",
    "from src.model import DogClassifier\n",
    "from src.tools import MetricStorer, seed_everything\n",
    "from src.config import DATASET_PATHS, CNFG, SAVE_METRICS_PATH, SAVE_WEIGHTS_PATH\n",
    "from src.loader import WoofDataset, train_transforms, val_transforms"
   ]
  },
  {
   "cell_type": "code",
   "execution_count": 9,
   "outputs": [],
   "source": [
    "seed_everything(CNFG['seed'])"
   ],
   "metadata": {
    "collapsed": false,
    "pycharm": {
     "name": "#%%\n"
    }
   }
  },
  {
   "cell_type": "code",
   "execution_count": 10,
   "outputs": [
    {
     "data": {
      "text/plain": "                                       path noisy_labels_0 noisy_labels_1  \\\n5687    train/n02099601/n02099601_1639.JPEG      n02099601      n02099601   \n937    train/n02115641/n02115641_14534.JPEG      n02115641      n02115641   \n7727    train/n02093754/n02093754_8005.JPEG      n02093754      n02093754   \n7635    train/n02093754/n02093754_1536.JPEG      n02093754      n02093754   \n12614      val/n02093754/n02093754_590.JPEG      n02093754      n02093754   \n\n      noisy_labels_5 noisy_labels_25 noisy_labels_50  is_valid  \n5687       n02099601       n02099601       n02099601     False  \n937        n02115641       n02115641       n02115641     False  \n7727       n02093754       n02093754       n02099601     False  \n7635       n02096294       n02093754       n02093754     False  \n12614      n02093754       n02093754       n02093754      True  ",
      "text/html": "<div>\n<style scoped>\n    .dataframe tbody tr th:only-of-type {\n        vertical-align: middle;\n    }\n\n    .dataframe tbody tr th {\n        vertical-align: top;\n    }\n\n    .dataframe thead th {\n        text-align: right;\n    }\n</style>\n<table border=\"1\" class=\"dataframe\">\n  <thead>\n    <tr style=\"text-align: right;\">\n      <th></th>\n      <th>path</th>\n      <th>noisy_labels_0</th>\n      <th>noisy_labels_1</th>\n      <th>noisy_labels_5</th>\n      <th>noisy_labels_25</th>\n      <th>noisy_labels_50</th>\n      <th>is_valid</th>\n    </tr>\n  </thead>\n  <tbody>\n    <tr>\n      <th>5687</th>\n      <td>train/n02099601/n02099601_1639.JPEG</td>\n      <td>n02099601</td>\n      <td>n02099601</td>\n      <td>n02099601</td>\n      <td>n02099601</td>\n      <td>n02099601</td>\n      <td>False</td>\n    </tr>\n    <tr>\n      <th>937</th>\n      <td>train/n02115641/n02115641_14534.JPEG</td>\n      <td>n02115641</td>\n      <td>n02115641</td>\n      <td>n02115641</td>\n      <td>n02115641</td>\n      <td>n02115641</td>\n      <td>False</td>\n    </tr>\n    <tr>\n      <th>7727</th>\n      <td>train/n02093754/n02093754_8005.JPEG</td>\n      <td>n02093754</td>\n      <td>n02093754</td>\n      <td>n02093754</td>\n      <td>n02093754</td>\n      <td>n02099601</td>\n      <td>False</td>\n    </tr>\n    <tr>\n      <th>7635</th>\n      <td>train/n02093754/n02093754_1536.JPEG</td>\n      <td>n02093754</td>\n      <td>n02093754</td>\n      <td>n02096294</td>\n      <td>n02093754</td>\n      <td>n02093754</td>\n      <td>False</td>\n    </tr>\n    <tr>\n      <th>12614</th>\n      <td>val/n02093754/n02093754_590.JPEG</td>\n      <td>n02093754</td>\n      <td>n02093754</td>\n      <td>n02093754</td>\n      <td>n02093754</td>\n      <td>n02093754</td>\n      <td>True</td>\n    </tr>\n  </tbody>\n</table>\n</div>"
     },
     "execution_count": 10,
     "metadata": {},
     "output_type": "execute_result"
    }
   ],
   "source": [
    "labels = pd.read_csv(DATASET_PATHS['labels'])\n",
    "labels.sample(5)"
   ],
   "metadata": {
    "collapsed": false,
    "pycharm": {
     "name": "#%%\n"
    }
   }
  },
  {
   "cell_type": "code",
   "execution_count": 3,
   "outputs": [],
   "source": [
    "labels = labels[['path', 'noisy_labels_0']]"
   ],
   "metadata": {
    "collapsed": false,
    "pycharm": {
     "name": "#%%\n"
    }
   }
  },
  {
   "cell_type": "code",
   "execution_count": 4,
   "outputs": [],
   "source": [
    "train_labels = labels[:9025]\n",
    "val_labels = labels[9025:]"
   ],
   "metadata": {
    "collapsed": false,
    "pycharm": {
     "name": "#%%\n"
    }
   }
  },
  {
   "cell_type": "code",
   "execution_count": 5,
   "outputs": [],
   "source": [
    "train_dataset = WoofDataset(files=train_labels['path'].to_list(),\n",
    "                            labels=train_labels['noisy_labels_0'].to_list(),\n",
    "                            data_path=DATASET_PATHS['main_path'],\n",
    "                            transforms=train_transforms,\n",
    "                            mode='train')\n",
    "\n",
    "val_dataset = WoofDataset(files=val_labels['path'].to_list(),\n",
    "                            labels=val_labels['noisy_labels_0'].to_list(),\n",
    "                            data_path=DATASET_PATHS['main_path'],\n",
    "                            transforms=val_transforms,\n",
    "                            mode='val')"
   ],
   "metadata": {
    "collapsed": false,
    "pycharm": {
     "name": "#%%\n"
    }
   }
  },
  {
   "cell_type": "code",
   "execution_count": 6,
   "outputs": [],
   "source": [
    "train_loader = DataLoader(train_dataset, batch_size=CNFG['batch_size'], num_workers=CNFG['num_workers'])\n",
    "val_loader = DataLoader(val_dataset, batch_size=CNFG['batch_size'], num_workers=CNFG['num_workers'])"
   ],
   "metadata": {
    "collapsed": false,
    "pycharm": {
     "name": "#%%\n"
    }
   }
  },
  {
   "cell_type": "code",
   "execution_count": 7,
   "outputs": [
    {
     "name": "stdout",
     "output_type": "stream",
     "text": [
      "Train length - 9025, val length - 3929\n"
     ]
    }
   ],
   "source": [
    "print(f'Train length - {len(train_dataset)}, val length - {len(val_dataset)}')"
   ],
   "metadata": {
    "collapsed": false,
    "pycharm": {
     "name": "#%%\n"
    }
   }
  },
  {
   "cell_type": "code",
   "execution_count": 7,
   "outputs": [],
   "source": [
    "model = DogClassifier(CNFG['model_arch'], 10, pretrained=True)\n",
    "criterion = torch.nn.CrossEntropyLoss()\n",
    "optimizer = torch.optim.Adam(model.parameters(), lr=CNFG['lr'])\n",
    "scheduler = torch.optim.lr_scheduler.ReduceLROnPlateau(optimizer, patience=3, factor=0.3)\n",
    "\n",
    "storer = MetricStorer(\n",
    "    metrics=('acc'),\n",
    "    raw_names=('train_preds', 'test_preds',\n",
    "                'train_real', 'test_real'),\n",
    "    folds=('train', 'test'),\n",
    "    path=SAVE_METRICS_PATH,\n",
    "    esr=CNFG['esr']\n",
    ")\n"
   ],
   "metadata": {
    "collapsed": false,
    "pycharm": {
     "name": "#%%\n"
    }
   }
  }
 ],
 "metadata": {
  "kernelspec": {
   "display_name": "Python 3",
   "language": "python",
   "name": "python3"
  },
  "language_info": {
   "codemirror_mode": {
    "name": "ipython",
    "version": 2
   },
   "file_extension": ".py",
   "mimetype": "text/x-python",
   "name": "python",
   "nbconvert_exporter": "python",
   "pygments_lexer": "ipython2",
   "version": "2.7.6"
  }
 },
 "nbformat": 4,
 "nbformat_minor": 0
}